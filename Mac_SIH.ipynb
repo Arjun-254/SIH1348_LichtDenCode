{
  "nbformat": 4,
  "nbformat_minor": 0,
  "metadata": {
    "colab": {
      "provenance": [],
      "gpuType": "T4"
    },
    "kernelspec": {
      "name": "python3",
      "display_name": "Python 3"
    },
    "language_info": {
      "name": "python"
    },
    "accelerator": "GPU"
  },
  "cells": [
    {
      "cell_type": "code",
      "source": [
        "# 2V25saC0pDFc8heT7wxsjigW3CF_32oQPdVZZP9wSMGd29FCa\n",
        "# 2NqtkyBMF0KF99ofEU1fGz1pCJS_3XehxpoU47JGBiqY6tV7M\n",
        "\n",
        "!pip install TTS openai-whisper pyngrok fastapi[all] nest_asyncio -q\n",
        "!curl -s https://ngrok-agent.s3.amazonaws.com/ngrok.asc | sudo tee /etc/apt/trusted.gpg.d/ngrok.asc >/dev/null && echo \"deb https://ngrok-agent.s3.amazonaws.com buster main\" | sudo tee /etc/apt/sources.list.d/ngrok.list && sudo apt update && sudo apt install ngrok\n",
        "!ngrok authtoken 2NqtkyBMF0KF99ofEU1fGz1pCJS_3XehxpoU47JGBiqY6tV7M\n",
        "!sudo apt update && sudo apt upgrade && sudo apt install ffmpeg\n",
        "!pip install --pre torch torchvision torchaudio --extra-index-url https://download.pytorch.org/whl/nightly/cpu"
      ],
      "metadata": {
        "id": "i-I8PKyUIZh_",
        "colab": {
          "base_uri": "https://localhost:8080/"
        },
        "outputId": "3f19be9c-2d50-4405-d6b4-80cbddf30cc1"
      },
      "execution_count": null,
      "outputs": [
        {
          "output_type": "stream",
          "name": "stdout",
          "text": [
            "deb https://ngrok-agent.s3.amazonaws.com buster main\n",
            "Get:1 https://developer.download.nvidia.com/compute/cuda/repos/ubuntu2204/x86_64  InRelease [1,581 B]\n",
            "Hit:2 https://cloud.r-project.org/bin/linux/ubuntu jammy-cran40/ InRelease\n",
            "Hit:3 http://security.ubuntu.com/ubuntu jammy-security InRelease\n",
            "Get:4 https://developer.download.nvidia.com/compute/cuda/repos/ubuntu2204/x86_64  Packages [495 kB]\n",
            "Hit:5 https://ngrok-agent.s3.amazonaws.com buster InRelease\n",
            "Hit:6 http://archive.ubuntu.com/ubuntu jammy InRelease\n",
            "Hit:7 http://archive.ubuntu.com/ubuntu jammy-updates InRelease\n",
            "Hit:8 https://ppa.launchpadcontent.net/c2d4u.team/c2d4u4.0+/ubuntu jammy InRelease\n",
            "Hit:9 http://archive.ubuntu.com/ubuntu jammy-backports InRelease\n",
            "Hit:10 https://ppa.launchpadcontent.net/deadsnakes/ppa/ubuntu jammy InRelease\n",
            "Hit:11 https://ppa.launchpadcontent.net/graphics-drivers/ppa/ubuntu jammy InRelease\n",
            "Hit:12 https://ppa.launchpadcontent.net/ubuntugis/ppa/ubuntu jammy InRelease\n",
            "Fetched 497 kB in 2s (234 kB/s)\n",
            "Reading package lists... Done\n",
            "Building dependency tree... Done\n",
            "Reading state information... Done\n",
            "4 packages can be upgraded. Run 'apt list --upgradable' to see them.\n",
            "Reading package lists... Done\n",
            "Building dependency tree... Done\n",
            "Reading state information... Done\n",
            "ngrok is already the newest version (3.3.4).\n",
            "The following packages were automatically installed and are no longer required:\n",
            "  linux-headers-5.15.0-82 linux-headers-5.15.0-82-generic\n",
            "Use 'sudo apt autoremove' to remove them.\n",
            "0 upgraded, 0 newly installed, 0 to remove and 4 not upgraded.\n",
            "Authtoken saved to configuration file: /root/.config/ngrok/ngrok.yml\n",
            "Hit:1 https://cloud.r-project.org/bin/linux/ubuntu jammy-cran40/ InRelease\n",
            "Hit:2 https://developer.download.nvidia.com/compute/cuda/repos/ubuntu2204/x86_64  InRelease\n",
            "Hit:3 http://archive.ubuntu.com/ubuntu jammy InRelease\n",
            "Hit:4 https://ngrok-agent.s3.amazonaws.com buster InRelease\n",
            "Hit:5 http://archive.ubuntu.com/ubuntu jammy-updates InRelease\n",
            "Hit:6 http://archive.ubuntu.com/ubuntu jammy-backports InRelease\n",
            "Hit:7 https://ppa.launchpadcontent.net/c2d4u.team/c2d4u4.0+/ubuntu jammy InRelease\n",
            "Hit:8 https://ppa.launchpadcontent.net/deadsnakes/ppa/ubuntu jammy InRelease\n",
            "Hit:9 https://ppa.launchpadcontent.net/graphics-drivers/ppa/ubuntu jammy InRelease\n",
            "Hit:10 https://ppa.launchpadcontent.net/ubuntugis/ppa/ubuntu jammy InRelease\n",
            "Hit:11 http://security.ubuntu.com/ubuntu jammy-security InRelease\n",
            "Reading package lists... Done\n",
            "Building dependency tree... Done\n",
            "Reading state information... Done\n",
            "4 packages can be upgraded. Run 'apt list --upgradable' to see them.\n",
            "Reading package lists... Done\n",
            "Building dependency tree... Done\n",
            "Reading state information... Done\n",
            "Calculating upgrade... Done\n",
            "The following packages were automatically installed and are no longer required:\n",
            "  linux-headers-5.15.0-82 linux-headers-5.15.0-82-generic\n",
            "Use 'sudo apt autoremove' to remove them.\n",
            "The following packages have been kept back:\n",
            "  libcudnn8 libcudnn8-dev libnccl-dev libnccl2\n",
            "0 upgraded, 0 newly installed, 0 to remove and 4 not upgraded.\n",
            "Reading package lists... Done\n",
            "Building dependency tree... Done\n",
            "Reading state information... Done\n",
            "ffmpeg is already the newest version (7:4.4.2-0ubuntu0.22.04.1).\n",
            "The following packages were automatically installed and are no longer required:\n",
            "  linux-headers-5.15.0-82 linux-headers-5.15.0-82-generic\n",
            "Use 'sudo apt autoremove' to remove them.\n",
            "0 upgraded, 0 newly installed, 0 to remove and 4 not upgraded.\n"
          ]
        }
      ]
    },
    {
      "cell_type": "code",
      "execution_count": null,
      "metadata": {
        "id": "ynIQOpICITpK",
        "colab": {
          "base_uri": "https://localhost:8080/"
        },
        "outputId": "408f4055-a98a-4ba1-bcb8-cf814e2c6c98"
      },
      "outputs": [
        {
          "output_type": "stream",
          "name": "stderr",
          "text": [
            "100%|██████████████████████████████████████| 2.87G/2.87G [00:24<00:00, 127MiB/s]\n"
          ]
        }
      ],
      "source": [
        "import whisper\n",
        "from fastapi import FastAPI, UploadFile, File, HTTPException, Body\n",
        "from fastapi.middleware.cors import CORSMiddleware\n",
        "from pydantic import BaseModel\n",
        "import nest_asyncio\n",
        "from pyngrok import ngrok\n",
        "import uuid\n",
        "import os\n",
        "import uvicorn\n",
        "import torch\n",
        "from TTS.api import TTS\n",
        "from fastapi.responses import FileResponse\n",
        "import asyncio\n",
        "import gc\n",
        "\n",
        "device = 'mps' if torch.backends.mps.is_available() else 'cpu'\n",
        "\n",
        "voice_model = whisper.load_model(\"large-v2\").to(device)\n",
        "tts = TTS('tts_models/en/jenny/jenny').to(device)\n",
        "port=8888\n",
        "gc.collect()"
      ]
    },
    {
      "cell_type": "code",
      "source": [
        "app = FastAPI(title=\"SIH 2023 Backend\")\n",
        "\n",
        "app.add_middleware(\n",
        "CORSMiddleware,\n",
        "allow_origins=[\"*\"],\n",
        "allow_credentials=True,\n",
        "allow_methods=[\"*\"],\n",
        "allow_headers=[\"*\"],\n",
        ")\n",
        "\n",
        "class TTSModel(BaseModel):\n",
        "    text: str\n",
        "    emotion: str = \"Cheerful & Professional\"\n",
        "\n",
        "@app.post(\"/transcribe/\")\n",
        "async def transcribe_audio(file: UploadFile = File(...)):\n",
        "    audio_path = f\"{uuid.uuid4()}.webm\"\n",
        "    with open(audio_path, \"wb\") as f:\n",
        "        f.write(await file.read())\n",
        "    result = voice_model.transcribe(whisper.pad_or_trim(whisper.load_audio(audio_path)))[\"text\"]\n",
        "    os.remove(audio_path)\n",
        "    return {\"text\": result}\n",
        "\n",
        "@app.post(\"/coqui-tts/\")\n",
        "async def coqui_tts(request: TTSModel = Body(...)):\n",
        "    out = f\"{uuid.uuid4()}.ogg\"\n",
        "    async def remove():\n",
        "        loop = asyncio.get_event_loop()\n",
        "        await loop.run_in_executor(None, lambda: os.remove(out))\n",
        "    tts.tts_to_file(request.text, file_path=out, emotion=request.emotion)\n",
        "    return FileResponse(out,headers={\"Content-Disposition\":f\"attachment; filename={out}\"},background=remove)\n",
        "\n",
        "if __name__==\"__main__\":\n",
        "    ngrok_tunnel = ngrok.connect(port)\n",
        "    print('Public URL:', ngrok_tunnel.public_url)\n",
        "    nest_asyncio.apply()\n",
        "    uvicorn.run(app,port=port)"
      ],
      "metadata": {
        "id": "DtnjO2BFCdhF"
      },
      "execution_count": null,
      "outputs": []
    }
  ]
}